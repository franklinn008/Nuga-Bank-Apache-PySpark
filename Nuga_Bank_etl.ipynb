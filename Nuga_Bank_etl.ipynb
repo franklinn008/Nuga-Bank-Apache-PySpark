{
 "cells": [
  {
   "cell_type": "markdown",
   "metadata": {},
   "source": [
    "### Importing and installing necessary dependencies"
   ]
  },
  {
   "cell_type": "code",
   "execution_count": 2,
   "metadata": {},
   "outputs": [],
   "source": [
    "#pip install pyspark"
   ]
  },
  {
   "cell_type": "code",
   "execution_count": 3,
   "metadata": {},
   "outputs": [],
   "source": [
    "from pyspark.sql import SparkSession\n",
    "import pandas as pd\n",
    "from sqlalchemy import create_engine"
   ]
  },
  {
   "cell_type": "code",
   "execution_count": 4,
   "metadata": {},
   "outputs": [],
   "source": [
    "#pip install py4j\n"
   ]
  },
  {
   "cell_type": "code",
   "execution_count": 5,
   "metadata": {},
   "outputs": [
    {
     "name": "stdout",
     "output_type": "stream",
     "text": [
      "PySpark is working correctly with Spark version: 3.5.1\n"
     ]
    }
   ],
   "source": [
    "\n",
    "import os\n",
    "from pyspark.sql import SparkSession\n",
    "from pyspark import SparkConf\n",
    "\n",
    "# Set JAVA_HOME and SPARK_HOME\n",
    "os.environ['JAVA_HOME'] = 'C:/java/jdk'\n",
    "os.environ['SPARK_HOME'] = 'C:/spark/spark-3.5.1-bin-hadoop3'\n",
    "\n",
    "# Optional: Set HADOOP_HOME if using Hadoop\n",
    "os.environ['HADOOP_HOME'] = 'C:\\hadoop\\hadoop-3.4.0'\n",
    "os.environ['PATH'] += os.pathsep + os.path.join(os.environ['HADOOP_HOME'], 'bin')\n",
    "\n",
    "# Configure Spark session\n",
    "sparkConf = SparkConf()\n",
    "sparkConf.setAppName(\"NugaBankETL\")\n",
    "sparkConf.setMaster(\"local[*]\")  # Run Spark locally with all available cores\n",
    "\n",
    "# Add any additional configurations as needed\n",
    "sparkConf.set(\"spark.executor.memory\", \"16g\")\n",
    "sparkConf.set(\"spark.executor.cores\", \"8\")\n",
    "\n",
    "# Initialize SparkSession\n",
    "spark = SparkSession.builder \\\n",
    "    .config(conf=sparkConf) \\\n",
    "    .getOrCreate()\n",
    "\n",
    "# Verify Spark session\n",
    "print(\"PySpark is working correctly with Spark version:\", spark.version)\n",
    "\n",
    "# Stop Spark session\n",
    "spark.stop()"
   ]
  },
  {
   "cell_type": "markdown",
   "metadata": {},
   "source": [
    "### Data Extraction"
   ]
  },
  {
   "cell_type": "code",
   "execution_count": 6,
   "metadata": {},
   "outputs": [],
   "source": [
    "#Initializing the spark session\n",
    "spark = SparkSession.builder.appName(\"NugaBankETL\").getOrCreate()"
   ]
  },
  {
   "cell_type": "code",
   "execution_count": 7,
   "metadata": {},
   "outputs": [
    {
     "data": {
      "text/html": [
       "\n",
       "            <div>\n",
       "                <p><b>SparkSession - in-memory</b></p>\n",
       "                \n",
       "        <div>\n",
       "            <p><b>SparkContext</b></p>\n",
       "\n",
       "            <p><a href=\"http://UGODINANWA-INNOV8.home:4040\">Spark UI</a></p>\n",
       "\n",
       "            <dl>\n",
       "              <dt>Version</dt>\n",
       "                <dd><code>v3.5.1</code></dd>\n",
       "              <dt>Master</dt>\n",
       "                <dd><code>local[*]</code></dd>\n",
       "              <dt>AppName</dt>\n",
       "                <dd><code>NugaBankETL</code></dd>\n",
       "            </dl>\n",
       "        </div>\n",
       "        \n",
       "            </div>\n",
       "        "
      ],
      "text/plain": [
       "<pyspark.sql.session.SparkSession at 0x23c25a0f510>"
      ]
     },
     "execution_count": 7,
     "metadata": {},
     "output_type": "execute_result"
    }
   ],
   "source": [
    "#Knowing the spark UI\n",
    "spark"
   ]
  },
  {
   "cell_type": "code",
   "execution_count": 8,
   "metadata": {},
   "outputs": [
    {
     "name": "stdout",
     "output_type": "stream",
     "text": [
      "+--------------------+------+----------------+--------------+--------------------+------------------+--------------+--------------------+--------------------+--------------------+--------------------+-------------------+------------------+--------------------+-------------+-------------+--------+-----+---------+--------------------+--------------------+------+--------------+\n",
      "|    Transaction_Date|Amount|Transaction_Type| Customer_Name|    Customer_Address|     Customer_City|Customer_State|    Customer_Country|             Company|           Job_Title|               Email|       Phone_Number|Credit_Card_Number|                IBAN|Currency_Code|Random_Number|Category|Group|Is_Active|        Last_Updated|         Description|Gender|Marital_Status|\n",
      "+--------------------+------+----------------+--------------+--------------------+------------------+--------------+--------------------+--------------------+--------------------+--------------------+-------------------+------------------+--------------------+-------------+-------------+--------+-----+---------+--------------------+--------------------+------+--------------+\n",
      "|2024-03-23 15:38:...| 34.76|      Withdrawal|    James Neal|54912 Holmes Lodg...| West Keithborough|       Florida|                Togo|Benson, Johnson a...|                NULL|                NULL|  493.720.6609x7545|  3592901394693441|GB98RBPP090285271...|          MAD|       3167.0|       C|    Z|       No|2020-06-20 03:04:...|Yeah food anythin...| Other|      Divorced|\n",
      "|2024-04-22 19:15:...|163.92|      Withdrawal|   Thomas Long| 1133 Collin Passage|        Joshuabury|   Connecticut|Lao People's Demo...|                NULL|   Food technologist|michellelynch@exa...|      (497)554-3317|              NULL|GB03KFZR339662263...|          VEF|       2122.0|       B|    Z|     NULL|2020-12-27 13:23:...|Teach edge make n...|Female|       Married|\n",
      "|2024-04-12 19:46:...|386.32|      Withdrawal|Ashley Shelton|5297 Johnson Port...|       North Maria|    New Jersey|              Bhutan|       Jones-Mueller|Database administ...| ljordan@example.org|      (534)769-3072|      675983949974|GB59QYRN446730519...|          COP|       7796.0|       C|    Z|       No|2020-01-24 01:23:...|Again line face c...| Other|          NULL|\n",
      "|2024-04-17 15:29:...|407.15|         Deposit| James Rosario|56955 Moore Glens...|North Michellefurt|    New Mexico|             Iceland|       Vargas-Harris|Horticultural the...|parkerjames@examp...|+1-447-900-1320x257|     4761202519057|GB74FTDO268299438...|          BWP|       6284.0|       C|    Z|      Yes|2023-09-27 03:01:...|     Bag my a drive.|  NULL|          NULL|\n",
      "|2024-02-10 01:51:...|161.31|         Deposit|Miguel Leonard|262 Beck Expressw...|              NULL| West Virginia|             Eritrea|Richardson, Gonza...|   Minerals surveyor| zweaver@example.net|               NULL|   213156729655186|GB94EWRN587847592...|          SOS|       9179.0|       C|    Y|       No|2022-01-22 19:08:...|Husband find ok w...|Female|       Married|\n",
      "+--------------------+------+----------------+--------------+--------------------+------------------+--------------+--------------------+--------------------+--------------------+--------------------+-------------------+------------------+--------------------+-------------+-------------+--------+-----+---------+--------------------+--------------------+------+--------------+\n",
      "only showing top 5 rows\n",
      "\n"
     ]
    }
   ],
   "source": [
    "#Extracting the data\n",
    "nuga_df = spark.read.csv(r'dataset\\nuga_bank_transactions.csv', header = True, inferSchema =True)\n",
    "nuga_df.show(5)"
   ]
  },
  {
   "cell_type": "code",
   "execution_count": 9,
   "metadata": {},
   "outputs": [
    {
     "name": "stdout",
     "output_type": "stream",
     "text": [
      "root\n",
      " |-- Transaction_Date: timestamp (nullable = true)\n",
      " |-- Amount: double (nullable = true)\n",
      " |-- Transaction_Type: string (nullable = true)\n",
      " |-- Customer_Name: string (nullable = true)\n",
      " |-- Customer_Address: string (nullable = true)\n",
      " |-- Customer_City: string (nullable = true)\n",
      " |-- Customer_State: string (nullable = true)\n",
      " |-- Customer_Country: string (nullable = true)\n",
      " |-- Company: string (nullable = true)\n",
      " |-- Job_Title: string (nullable = true)\n",
      " |-- Email: string (nullable = true)\n",
      " |-- Phone_Number: string (nullable = true)\n",
      " |-- Credit_Card_Number: long (nullable = true)\n",
      " |-- IBAN: string (nullable = true)\n",
      " |-- Currency_Code: string (nullable = true)\n",
      " |-- Random_Number: double (nullable = true)\n",
      " |-- Category: string (nullable = true)\n",
      " |-- Group: string (nullable = true)\n",
      " |-- Is_Active: string (nullable = true)\n",
      " |-- Last_Updated: timestamp (nullable = true)\n",
      " |-- Description: string (nullable = true)\n",
      " |-- Gender: string (nullable = true)\n",
      " |-- Marital_Status: string (nullable = true)\n",
      "\n"
     ]
    }
   ],
   "source": [
    "#Checking the schema\n",
    "nuga_df.printSchema()"
   ]
  },
  {
   "cell_type": "code",
   "execution_count": 10,
   "metadata": {},
   "outputs": [
    {
     "data": {
      "text/plain": [
       "['Transaction_Date',\n",
       " 'Amount',\n",
       " 'Transaction_Type',\n",
       " 'Customer_Name',\n",
       " 'Customer_Address',\n",
       " 'Customer_City',\n",
       " 'Customer_State',\n",
       " 'Customer_Country',\n",
       " 'Company',\n",
       " 'Job_Title',\n",
       " 'Email',\n",
       " 'Phone_Number',\n",
       " 'Credit_Card_Number',\n",
       " 'IBAN',\n",
       " 'Currency_Code',\n",
       " 'Random_Number',\n",
       " 'Category',\n",
       " 'Group',\n",
       " 'Is_Active',\n",
       " 'Last_Updated',\n",
       " 'Description',\n",
       " 'Gender',\n",
       " 'Marital_Status']"
      ]
     },
     "execution_count": 10,
     "metadata": {},
     "output_type": "execute_result"
    }
   ],
   "source": [
    "nuga_df.columns #Columns display"
   ]
  },
  {
   "cell_type": "code",
   "execution_count": 11,
   "metadata": {},
   "outputs": [
    {
     "data": {
      "text/plain": [
       "1000000"
      ]
     },
     "execution_count": 11,
     "metadata": {},
     "output_type": "execute_result"
    }
   ],
   "source": [
    "#Number of rows check\n",
    "numRows = nuga_df.count() \n",
    "numRows"
   ]
  },
  {
   "cell_type": "code",
   "execution_count": 12,
   "metadata": {},
   "outputs": [
    {
     "data": {
      "text/plain": [
       "23"
      ]
     },
     "execution_count": 12,
     "metadata": {},
     "output_type": "execute_result"
    }
   ],
   "source": [
    "#Number of columns check\n",
    "numCols = len(nuga_df.columns) \n",
    "numCols"
   ]
  },
  {
   "cell_type": "markdown",
   "metadata": {},
   "source": [
    "#### Data Cleaning and Transformation"
   ]
  },
  {
   "cell_type": "code",
   "execution_count": 13,
   "metadata": {},
   "outputs": [
    {
     "name": "stdout",
     "output_type": "stream",
     "text": [
      "Transaction_Date Nulls 0\n",
      "Amount Nulls 0\n",
      "Transaction_Type Nulls 0\n",
      "Customer_Name Nulls 100425\n",
      "Customer_Address Nulls 100087\n",
      "Customer_City Nulls 100034\n",
      "Customer_State Nulls 100009\n",
      "Customer_Country Nulls 100672\n",
      "Company Nulls 100295\n",
      "Job_Title Nulls 99924\n",
      "Email Nulls 100043\n",
      "Phone_Number Nulls 100524\n",
      "Credit_Card_Number Nulls 100085\n",
      "IBAN Nulls 100300\n",
      "Currency_Code Nulls 99342\n",
      "Random_Number Nulls 99913\n",
      "Category Nulls 100332\n",
      "Group Nulls 100209\n",
      "Is_Active Nulls 100259\n",
      "Last_Updated Nulls 100321\n",
      "Description Nulls 100403\n",
      "Gender Nulls 99767\n",
      "Marital_Status Nulls 99904\n"
     ]
    }
   ],
   "source": [
    "#Checking for null values\n",
    "for column in nuga_df.columns:\n",
    "    print(column, 'Nulls', nuga_df.filter(nuga_df[column].isNull()).count())"
   ]
  },
  {
   "cell_type": "code",
   "execution_count": 14,
   "metadata": {},
   "outputs": [],
   "source": [
    "#Filling up missing values\n",
    "nuga_dff = nuga_df.fillna({\n",
    "    'Customer_Name' : 'unknown',\n",
    "    'Customer_Address' : 'unknown',\n",
    "    'Customer_City' : 'unknown',\n",
    "    'Customer_State' : 'unknown',\n",
    "    'Customer_Country' : 'unknown',\n",
    "    'Company' : 'unknown',\n",
    "    'Job_Title' : 'unknown',\n",
    "    'Email' : 'unknown',\n",
    "    'Phone_Number': 'unknown',\n",
    "    'Credit_Card_Number' : 0,\n",
    "    'IBAN' : 'unknown',\n",
    "    'Currency_Code' : 'unknown',\n",
    "    'Random_Number' : 0.0,\n",
    "    'Category' : 'unknown',\n",
    "    'Group' : 'unknown',\n",
    "    'Is_Active' : 'unknown',\n",
    "    \n",
    "    'Description' : 'unknown',\n",
    "    'Gender' : 'unknown',\n",
    "    'Marital_Status' : 'unknown'\n",
    "})"
   ]
  },
  {
   "cell_type": "code",
   "execution_count": 15,
   "metadata": {},
   "outputs": [
    {
     "name": "stdout",
     "output_type": "stream",
     "text": [
      "Transaction_Date Nulls 0\n",
      "Amount Nulls 0\n",
      "Transaction_Type Nulls 0\n",
      "Customer_Name Nulls 0\n",
      "Customer_Address Nulls 0\n",
      "Customer_City Nulls 0\n",
      "Customer_State Nulls 0\n",
      "Customer_Country Nulls 0\n",
      "Company Nulls 0\n",
      "Job_Title Nulls 0\n",
      "Email Nulls 0\n",
      "Phone_Number Nulls 0\n",
      "Credit_Card_Number Nulls 0\n",
      "IBAN Nulls 0\n",
      "Currency_Code Nulls 0\n",
      "Random_Number Nulls 0\n",
      "Category Nulls 0\n",
      "Group Nulls 0\n",
      "Is_Active Nulls 0\n",
      "Last_Updated Nulls 100321\n",
      "Description Nulls 0\n",
      "Gender Nulls 0\n",
      "Marital_Status Nulls 0\n"
     ]
    }
   ],
   "source": [
    "#Checking for null values again after filling using the new dataframe\n",
    "for column in nuga_dff.columns:\n",
    "    print(column, 'Nulls', nuga_dff.filter(nuga_dff[column].isNull()).count())"
   ]
  },
  {
   "cell_type": "code",
   "execution_count": 16,
   "metadata": {},
   "outputs": [],
   "source": [
    "#Dropping Last_Updated Nulls 100321 because of the datatype, no impact \n",
    "nuga_dff = nuga_dff.na.drop(subset=['Last_Updated'])\n",
    "\n"
   ]
  },
  {
   "cell_type": "code",
   "execution_count": 17,
   "metadata": {},
   "outputs": [
    {
     "name": "stdout",
     "output_type": "stream",
     "text": [
      "Transaction_Date Nulls 0\n",
      "Amount Nulls 0\n",
      "Transaction_Type Nulls 0\n",
      "Customer_Name Nulls 0\n",
      "Customer_Address Nulls 0\n",
      "Customer_City Nulls 0\n",
      "Customer_State Nulls 0\n",
      "Customer_Country Nulls 0\n",
      "Company Nulls 0\n",
      "Job_Title Nulls 0\n",
      "Email Nulls 0\n",
      "Phone_Number Nulls 0\n",
      "Credit_Card_Number Nulls 0\n",
      "IBAN Nulls 0\n",
      "Currency_Code Nulls 0\n",
      "Random_Number Nulls 0\n",
      "Category Nulls 0\n",
      "Group Nulls 0\n",
      "Is_Active Nulls 0\n",
      "Last_Updated Nulls 0\n",
      "Description Nulls 0\n",
      "Gender Nulls 0\n",
      "Marital_Status Nulls 0\n"
     ]
    }
   ],
   "source": [
    "#Checking for null values again after filling using the new dataframe\n",
    "for column in nuga_dff.columns:\n",
    "    print(column, 'Nulls', nuga_dff.filter(nuga_dff[column].isNull()).count())"
   ]
  },
  {
   "cell_type": "code",
   "execution_count": 18,
   "metadata": {},
   "outputs": [
    {
     "data": {
      "text/plain": [
       "899679"
      ]
     },
     "execution_count": 18,
     "metadata": {},
     "output_type": "execute_result"
    }
   ],
   "source": [
    "#Number of rows check again after dropping nulls in Last_updated col\n",
    "numRows = nuga_dff.count() \n",
    "numRows"
   ]
  },
  {
   "cell_type": "code",
   "execution_count": 19,
   "metadata": {},
   "outputs": [
    {
     "name": "stdout",
     "output_type": "stream",
     "text": [
      "+-------+------------------+----------------+-------------+--------------------+-------------+--------------+----------------+------------+------------------+-------------------+-------------------+--------------------+--------------------+-------------+------------------+--------+-------+---------+--------------------+-------+--------------+\n",
      "|summary|            Amount|Transaction_Type|Customer_Name|    Customer_Address|Customer_City|Customer_State|Customer_Country|     Company|         Job_Title|              Email|       Phone_Number|  Credit_Card_Number|                IBAN|Currency_Code|     Random_Number|Category|  Group|Is_Active|         Description| Gender|Marital_Status|\n",
      "+-------+------------------+----------------+-------------+--------------------+-------------+--------------+----------------+------------+------------------+-------------------+-------------------+--------------------+--------------------+-------------+------------------+--------+-------+---------+--------------------+-------+--------------+\n",
      "|  count|            899679|          899679|       899679|              899679|       899679|        899679|          899679|      899679|            899679|             899679|             899679|              899679|              899679|       899679|            899679|  899679| 899679|   899679|              899679| 899679|        899679|\n",
      "|   mean|505.10367708927356|            NULL|         NULL|                NULL|         NULL|          NULL|            NULL|        NULL|              NULL|               NULL|6.002851385999521E9|3.409662226750505...|                NULL|         NULL| 4952.920380491264|    NULL|   NULL|     NULL|                NULL|   NULL|          NULL|\n",
      "| stddev| 285.7945343300471|            NULL|         NULL|                NULL|         NULL|          NULL|            NULL|        NULL|              NULL|               NULL|2.306837103861942E9|1.189655005733002...|                NULL|         NULL|2966.5434011516027|    NULL|   NULL|     NULL|                NULL|   NULL|          NULL|\n",
      "|    min|              10.0|         Deposit| Aaron Abbott|000 Aaron Landing...|    Aaronberg|       Alabama|     Afghanistan|Abbott Group|Academic librarian|aabbott@example.com|      (200)201-4254|                   0|GB02AAAU191993009...|          AED|               0.0|       A|      X|       No|A American and to...| Female|      Divorced|\n",
      "|    max|            1000.0|      Withdrawal|      unknown|             unknown|      unknown|       unknown|         unknown|     unknown|           unknown|zzuniga@example.org|            unknown| 4999984361512569455|             unknown|      unknown|            9999.0| unknown|unknown|  unknown|             unknown|unknown|       unknown|\n",
      "+-------+------------------+----------------+-------------+--------------------+-------------+--------------+----------------+------------+------------------+-------------------+-------------------+--------------------+--------------------+-------------+------------------+--------+-------+---------+--------------------+-------+--------------+\n",
      "\n"
     ]
    }
   ],
   "source": [
    "#Overview the summary Statistics\n",
    "nuga_dff.describe().show()\n"
   ]
  },
  {
   "cell_type": "code",
   "execution_count": 20,
   "metadata": {},
   "outputs": [
    {
     "data": {
      "text/plain": [
       "['Transaction_Date',\n",
       " 'Amount',\n",
       " 'Transaction_Type',\n",
       " 'Customer_Name',\n",
       " 'Customer_Address',\n",
       " 'Customer_City',\n",
       " 'Customer_State',\n",
       " 'Customer_Country',\n",
       " 'Company',\n",
       " 'Job_Title',\n",
       " 'Email',\n",
       " 'Phone_Number',\n",
       " 'Credit_Card_Number',\n",
       " 'IBAN',\n",
       " 'Currency_Code',\n",
       " 'Random_Number',\n",
       " 'Category',\n",
       " 'Group',\n",
       " 'Is_Active',\n",
       " 'Last_Updated',\n",
       " 'Description',\n",
       " 'Gender',\n",
       " 'Marital_Status']"
      ]
     },
     "execution_count": 20,
     "metadata": {},
     "output_type": "execute_result"
    }
   ],
   "source": [
    "#Checking the columns before Data modelling\n",
    "#Data Modelled in Draw.io\n",
    "nuga_dff.columns"
   ]
  },
  {
   "cell_type": "code",
   "execution_count": 21,
   "metadata": {},
   "outputs": [],
   "source": [
    "#transaction table\n",
    "transactions = nuga_dff.select('Transaction_Date','Amount','Transaction_Type')\n"
   ]
  },
  {
   "cell_type": "code",
   "execution_count": 22,
   "metadata": {},
   "outputs": [],
   "source": [
    "#Adding transactions_id to the table above, import a library\n",
    "from pyspark.sql.functions import monotonically_increasing_id\n"
   ]
  },
  {
   "cell_type": "code",
   "execution_count": 23,
   "metadata": {},
   "outputs": [],
   "source": [
    "#transaction_id\n",
    "transactions = transactions.withColumn('transaction_id', monotonically_increasing_id())"
   ]
  },
  {
   "cell_type": "code",
   "execution_count": 24,
   "metadata": {},
   "outputs": [],
   "source": [
    "#To reset index starting with the ID\n",
    "transactions = transactions.select('transaction_id','Transaction_Date','Amount','Transaction_Type')"
   ]
  },
  {
   "cell_type": "code",
   "execution_count": 25,
   "metadata": {},
   "outputs": [
    {
     "name": "stdout",
     "output_type": "stream",
     "text": [
      "+--------------+--------------------+------+----------------+\n",
      "|transaction_id|    Transaction_Date|Amount|Transaction_Type|\n",
      "+--------------+--------------------+------+----------------+\n",
      "|             0|2024-03-23 15:38:...| 34.76|      Withdrawal|\n",
      "|             1|2024-04-22 19:15:...|163.92|      Withdrawal|\n",
      "|             2|2024-04-12 19:46:...|386.32|      Withdrawal|\n",
      "|             3|2024-04-17 15:29:...|407.15|         Deposit|\n",
      "|             4|2024-02-10 01:51:...|161.31|         Deposit|\n",
      "+--------------+--------------------+------+----------------+\n",
      "only showing top 5 rows\n",
      "\n"
     ]
    }
   ],
   "source": [
    "transactions.show(5)"
   ]
  },
  {
   "cell_type": "code",
   "execution_count": 26,
   "metadata": {},
   "outputs": [
    {
     "name": "stdout",
     "output_type": "stream",
     "text": [
      "+-----------+--------------+--------------------+--------------------+--------------+----------------+--------------------+--------------------+\n",
      "|Customer_ID| Customer_Name|    Customer_Address|       Customer_City|Customer_State|Customer_Country|               Email|        Phone_Number|\n",
      "+-----------+--------------+--------------------+--------------------+--------------+----------------+--------------------+--------------------+\n",
      "|          0|Allen Castillo|   5750 Vanessa Neck|     New Vickiemouth|North Carolina|          Zambia|             unknown|  732.974.7438x89666|\n",
      "|          1|    Tina Jones|28150 Kelsey Stat...|             unknown|          Iowa|           Qatar|gabriellemoore@ex...|    736.645.3977x275|\n",
      "|          2|Michael Murphy|894 Williams Ridg...|       Dominguezview|      New York|          Sweden|kristinstanley@ex...|+1-693-739-2204x8851|\n",
      "|          3|   Brian Glenn|505 Mcdowell Gard...|South Christinech...|  South Dakota|         Lesotho|bcabrera@example.net|001-962-928-1897x...|\n",
      "|          4|  Jennifer Liu|07805 Taylor Lock...|          South Lisa|       Wyoming|         unknown|fergusonjustin@ex...|   688.888.9882x6972|\n",
      "+-----------+--------------+--------------------+--------------------+--------------+----------------+--------------------+--------------------+\n",
      "only showing top 5 rows\n",
      "\n"
     ]
    }
   ],
   "source": [
    "#customer table, using distinct to select only once\n",
    "customers = nuga_dff.select( 'Customer_Name','Customer_Address','Customer_City',\\\n",
    "                            'Customer_State','Customer_Country','Email','Phone_Number').distinct()\n",
    "customers = customers.withColumn('Customer_ID', monotonically_increasing_id())\n",
    "customers = customers.select('Customer_ID','Customer_Name','Customer_Address',\\\n",
    "                                'Customer_City','Customer_State','Customer_Country','Email','Phone_Number')\n",
    "customers.show(5)\n"
   ]
  },
  {
   "cell_type": "code",
   "execution_count": 27,
   "metadata": {},
   "outputs": [
    {
     "name": "stdout",
     "output_type": "stream",
     "text": [
      "+-----------+--------------------+--------------------+------+--------------+\n",
      "|Employee_ID|             Company|           Job_Title|Gender|Marital_Status|\n",
      "+-----------+--------------------+--------------------+------+--------------+\n",
      "|          0|Hill, Sharp and F...|             unknown|Female|      Divorced|\n",
      "|          1|Schmidt, Morgan a...|     Engineer, water|Female|        Single|\n",
      "|          2|Medina, Flores an...|             Curator|Female|       unknown|\n",
      "|          3|         Bell-Murphy|Geographical info...|  Male|       unknown|\n",
      "|          4|      Henry and Sons|Engineer, civil (...|Female|       Married|\n",
      "+-----------+--------------------+--------------------+------+--------------+\n",
      "only showing top 5 rows\n",
      "\n"
     ]
    }
   ],
   "source": [
    "#employee table\n",
    "employees = nuga_dff.select( 'Company','Job_Title','Gender','Marital_Status').distinct()\n",
    "employees = employees.withColumn('Employee_ID', monotonically_increasing_id())\n",
    "employees = employees.select('Employee_ID', 'Company','Job_Title','Gender','Marital_Status')\n",
    "employees.show(5)"
   ]
  },
  {
   "cell_type": "code",
   "execution_count": 28,
   "metadata": {},
   "outputs": [],
   "source": [
    "#fact_table\n",
    "fact_table = nuga_dff.join(customers,['Customer_Name','Customer_Address',\\\n",
    "                                'Customer_City','Customer_State','Customer_Country','Email','Phone_Number'], 'left') \\\n",
    "                     .join(transactions, ['Transaction_Date','Amount','Transaction_Type'], 'left') \\\n",
    "                     .join(employees, ['Company','Job_Title','Gender','Marital_Status'],'left') \\\n",
    "                     .select('Customer_ID','transaction_id','Employee_ID','Credit_Card_Number','IBAN','Currency_Code', \\\n",
    "                                'Random_Number','Category','Group','Is_Active','Last_Updated','Description')"
   ]
  },
  {
   "cell_type": "code",
   "execution_count": 29,
   "metadata": {},
   "outputs": [
    {
     "name": "stdout",
     "output_type": "stream",
     "text": [
      "+------------+--------------+-----------+------------------+--------------------+-------------+-------------+--------+-----+---------+--------------------+--------------------+\n",
      "| Customer_ID|transaction_id|Employee_ID|Credit_Card_Number|                IBAN|Currency_Code|Random_Number|Category|Group|Is_Active|        Last_Updated|         Description|\n",
      "+------------+--------------+-----------+------------------+--------------------+-------------+-------------+--------+-----+---------+--------------------+--------------------+\n",
      "| 34359808549|   94489280512|      63464|     4511208969578|GB04TVBU672029194...|          NAD|       6450.0|       B|    X|      Yes|2023-02-21 21:19:...|Support use detai...|\n",
      "| 94489298803|   25769803776|      19099|   213133896337542|GB07IUUE487965913...|          ISK|          0.0|       D|    Y|       No|2023-08-16 10:32:...|Themselves make ago.|\n",
      "| 85899402159|   77309411330|      51435|  5388658592185363|GB09MHOG513401686...|          NIS|       4609.0|       C|    Z|       No|2021-11-19 11:47:...|             unknown|\n",
      "| 77309480874|   94489280515|      63176|     4597218208149|GB38JACB953247932...|          IQD|       1138.0|       C|    Z|      Yes|2022-10-29 03:55:...|Piece too world i...|\n",
      "|103079216213|             1|        373|                 0|GB03KFZR339662263...|          VEF|       2122.0|       B|    Z|  unknown|2020-12-27 13:23:...|Teach edge make n...|\n",
      "+------------+--------------+-----------+------------------+--------------------+-------------+-------------+--------+-----+---------+--------------------+--------------------+\n",
      "only showing top 5 rows\n",
      "\n"
     ]
    }
   ],
   "source": [
    "fact_table.show(5)"
   ]
  },
  {
   "cell_type": "code",
   "execution_count": 30,
   "metadata": {},
   "outputs": [],
   "source": [
    "# Saving and output the transformed tables/data as parquet file\n",
    "#overwrite used to make it run overtime\n",
    "#Due to system capacity might to execute\n",
    "#transactions.write.mode('overwrite').parquet('dataset/transactions')\n",
    "#customers.write.mode('overwrite').parquet('dataset/customers')\n",
    "#employees.write.mode('overwrite').parquet('dataset/employees')\n",
    "#fact_table.write.mode('overwrite').parquet('dataset/fact_table')"
   ]
  },
  {
   "cell_type": "code",
   "execution_count": 31,
   "metadata": {},
   "outputs": [],
   "source": [
    "spark.conf.set(\"spark.sql.execution.arrow.pyspark.enabled\", \"true\")\n",
    "spark.sparkContext.setLogLevel(\"DEBUG\")\n"
   ]
  },
  {
   "cell_type": "code",
   "execution_count": null,
   "metadata": {},
   "outputs": [],
   "source": [
    "#Saving as CSV alternatively\n",
    "#transactions.repartition(1).write.mode('overwrite').option('header','true').csv('dataset//mdata//csv//transactions')\n",
    "#customers.repartition(1).write.mode('overwrite').option('header','true').csv('dataset//mdata//csv//customers')\n",
    "#employees.repartition(1).write.mode('overwrite').option('header','true').csv('dataset//mdata//csv//employees')\n",
    "#fact_table.repartition(1).write.mode('overwrite').option('header','true').csv('dataset//mdata//csv//fact_table')\n",
    "#print(\"CSV write successful\")"
   ]
  },
  {
   "cell_type": "code",
   "execution_count": 33,
   "metadata": {},
   "outputs": [],
   "source": [
    "#Converting spark df to pandas df\n",
    "transactions_pd = transactions.toPandas()\n",
    "customers_pd = customers.toPandas()\n",
    "employees_pd = employees.toPandas()\n",
    "fact_table_pd = fact_table.toPandas()"
   ]
  },
  {
   "cell_type": "code",
   "execution_count": 34,
   "metadata": {},
   "outputs": [],
   "source": [
    "#pip install psycopg2"
   ]
  },
  {
   "cell_type": "code",
   "execution_count": 35,
   "metadata": {},
   "outputs": [
    {
     "name": "stdout",
     "output_type": "stream",
     "text": [
      "Database, tables and data loaded successfully\n"
     ]
    }
   ],
   "source": [
    "#Loading the dataset into a postgre sql database\n",
    "#Defining parameters/connections\n",
    "import pandas as pd\n",
    "from sqlalchemy import create_engine\n",
    "\n",
    "db_params = {\n",
    "    'username' : 'postgres',\n",
    "    'password' : 'password',\n",
    "    'host' : 'localhost',\n",
    "    'port' : '5432',\n",
    "    'database' : 'nuga_bank'\n",
    "}\n",
    "\n",
    "#connections\n",
    "db_url = f\"postgresql://{db_params['username']}:{db_params['password']}@{db_params['host']}:{db_params['port']}/{db_params['database']}\"\n",
    "\n",
    "#Creatind database engine\n",
    "engine  = create_engine(db_url)\n",
    "\n",
    "#connecting to the postgres server\n",
    "with engine.connect() as connection:\n",
    "    #Create tables and load the data\n",
    "    transactions_pd.to_sql('Transactions', connection, index= False, if_exists= 'replace')\n",
    "    customers_pd.to_sql('Customers', connection, index= False, if_exists= 'replace')\n",
    "    employees_pd.to_sql('Employees', connection, index= False, if_exists= 'replace')\n",
    "    fact_table_pd.to_sql('Fact_Table', connection, index= False, if_exists= 'replace')\n",
    "\n",
    "print('Database, tables and data loaded successfully')"
   ]
  }
 ],
 "metadata": {
  "kernelspec": {
   "display_name": "base",
   "language": "python",
   "name": "python3"
  },
  "language_info": {
   "codemirror_mode": {
    "name": "ipython",
    "version": 3
   },
   "file_extension": ".py",
   "mimetype": "text/x-python",
   "name": "python",
   "nbconvert_exporter": "python",
   "pygments_lexer": "ipython3",
   "version": "3.11.5"
  }
 },
 "nbformat": 4,
 "nbformat_minor": 2
}
